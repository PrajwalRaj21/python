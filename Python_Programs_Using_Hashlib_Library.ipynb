{
  "nbformat": 4,
  "nbformat_minor": 0,
  "metadata": {
    "colab": {
      "provenance": [],
      "authorship_tag": "ABX9TyMetdDIgkMtw8RN0ByGcTDc",
      "include_colab_link": true
    },
    "kernelspec": {
      "name": "python3",
      "display_name": "Python 3"
    },
    "language_info": {
      "name": "python"
    }
  },
  "cells": [
    {
      "cell_type": "markdown",
      "metadata": {
        "id": "view-in-github",
        "colab_type": "text"
      },
      "source": [
        "<a href=\"https://colab.research.google.com/github/PrajwalRaj21/python/blob/main/Python_Programs_Using_Hashlib_Library.ipynb\" target=\"_parent\"><img src=\"https://colab.research.google.com/assets/colab-badge.svg\" alt=\"Open In Colab\"/></a>"
      ]
    },
    {
      "cell_type": "markdown",
      "source": [
        "A simple python progream to Hash passwords"
      ],
      "metadata": {
        "id": "-fRZtEnjm4eT"
      }
    },
    {
      "cell_type": "code",
      "source": [
        "import hashlib"
      ],
      "metadata": {
        "id": "-5z_L4TRm8J1"
      },
      "execution_count": null,
      "outputs": []
    },
    {
      "cell_type": "code",
      "source": [
        "import hashlib\n",
        "\n",
        "def hash_password(password):\n",
        "    hashed_pass = hashlib.sha256(password.encode()).hexdigest()\n",
        "    return hashed_pass\n",
        "\n",
        "password = \"My facebook password\"\n",
        "hashed_pass = hash_password(password)\n",
        "print(\"Hashed password:\", hashed_pass)\n"
      ],
      "metadata": {
        "colab": {
          "base_uri": "https://localhost:8080/"
        },
        "id": "mi1rwZX_nELU",
        "outputId": "47e51da7-79e9-437b-b7c1-ead21c512f9f"
      },
      "execution_count": null,
      "outputs": [
        {
          "output_type": "stream",
          "name": "stdout",
          "text": [
            "Hashed password: 3f4c684a2c9d7f324a7b023107c44f27d5413e5e0324b60342a1f1ff89711f9d\n"
          ]
        }
      ]
    },
    {
      "cell_type": "markdown",
      "source": [
        "Password cracking simulator"
      ],
      "metadata": {
        "id": "0S8L6Roqng1H"
      }
    },
    {
      "cell_type": "code",
      "source": [
        "import hashlib\n",
        "\n",
        "def simulate_password_cracking(hashed_password, password_list):\n",
        "    for password in password_list:\n",
        "        if hashlib.sha256(password.encode()).hexdigest() == hashed_password:\n",
        "            return f\"Password Cracked: {password}\"\n",
        "    return \"Password not found\"\n",
        "\n",
        "# example\n",
        "hashed_password_to_crack = \"3f4c684a2c9d7f324a7b023107c44f27d5413e5e0324b60342a1f1ff89711f9d\"\n",
        "common_passwords = [\"My Facebook Password\", \"Nepal123\", \"ABCD\"]\n",
        "\n",
        "result = simulate_password_cracking(hashed_password_to_crack, common_passwords)\n",
        "print(result)\n"
      ],
      "metadata": {
        "colab": {
          "base_uri": "https://localhost:8080/"
        },
        "id": "BiPB06Udnr3R",
        "outputId": "f464e52a-fc1e-4caa-ec6f-f84f2a98fd49"
      },
      "execution_count": null,
      "outputs": [
        {
          "output_type": "stream",
          "name": "stdout",
          "text": [
            "Password not found\n"
          ]
        }
      ]
    },
    {
      "cell_type": "markdown",
      "source": [],
      "metadata": {
        "id": "QwiME-CkpL7G"
      }
    }
  ]
}